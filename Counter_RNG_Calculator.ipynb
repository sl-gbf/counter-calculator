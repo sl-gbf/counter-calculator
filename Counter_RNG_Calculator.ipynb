{
  "nbformat": 4,
  "nbformat_minor": 0,
  "metadata": {
    "colab": {
      "provenance": [],
      "collapsed_sections": [],
      "authorship_tag": "ABX9TyOtbw/Bz2pbKc53uC4Bu98o",
      "include_colab_link": true
    },
    "kernelspec": {
      "name": "python3",
      "display_name": "Python 3"
    },
    "language_info": {
      "name": "python"
    }
  },
  "cells": [
    {
      "cell_type": "markdown",
      "metadata": {
        "id": "view-in-github",
        "colab_type": "text"
      },
      "source": [
        "<a href=\"https://colab.research.google.com/github/sl-gbf/counter-calculator/blob/main/Counter_RNG_Calculator.ipynb\" target=\"_parent\"><img src=\"https://colab.research.google.com/assets/colab-badge.svg\" alt=\"Open In Colab\"/></a>"
      ]
    },
    {
      "cell_type": "markdown",
      "source": [
        "# Counter RNG Calculator\n",
        "\n",
        "Use this to *overestimate* the failure rate of your OTK, assuming you slightly overestimate the damage you take and your failure rate **only** depends on counter RNG.\n",
        "\n",
        "This does not handle variance for the following other factors:\n",
        "- multiattack\n",
        "- nonconsistent critical mods\n",
        "- RNG effects in general\n",
        "\n",
        "To be specific, this code computes all possible targetting/dodge procs and checks if it means the necessary counter conditions.\n",
        "\n",
        "To use this, copy this colab so you can save your own values for later.\n",
        "Success rate is at the bottom after running Runtime -> Run All"
      ],
      "metadata": {
        "id": "LuizqUN4oIc5"
      }
    },
    {
      "cell_type": "code",
      "source": [
        "# Imports\n",
        "from enum import Enum\n",
        "\n",
        "# 4 frontline units\n",
        "class Ch(Enum):\n",
        "  A=0,\n",
        "  B=1,\n",
        "  C=2,\n",
        "  D=3\n",
        "\n",
        "hp = {}\n",
        "dodge = {}\n",
        "dmg_taken = {}\n",
        "host = {}\n",
        "\n",
        "# hp = 0 -> char DNE\n",
        "# colabs forms doesn't support inputting it right into the dict, so it's a bit messy.\n",
        "#@markdown Character A (Usually MC)\n",
        "hp_A = 29990 #@param {type: \"number\", min:0}\n",
        "dodge_A = 0.03 #@param {type:\"number\", min:0, max:1}\n",
        "dmg_taken_A = 2450 #@param {type: \"number\", min:0}\n",
        "hostility_A = 10 #@param {type:\"number\", min:0}\n",
        "hp[Ch.A] = hp_A\n",
        "dodge[Ch.A] = dodge_A\n",
        "dmg_taken[Ch.A] = dmg_taken_A\n",
        "host[Ch.A] = hostility_A\n",
        "\n",
        "#@markdown Character B \n",
        "\n",
        "#@markdown For missing characters, set HP to 0.\n",
        "hp_B = 24488 #@param {type: \"number\", min:0}\n",
        "dodge_B = 0.00 #@param {type:\"number\", min:0, max:1}\n",
        "dmg_taken_B = 2550 #@param {type: \"number\", min:0}\n",
        "hostility_B = 10 #@param {type:\"number\", min:0}\n",
        "hp[Ch.B] = hp_B\n",
        "dodge[Ch.B] = dodge_B\n",
        "dmg_taken[Ch.B] = dmg_taken_B\n",
        "host[Ch.B] = hostility_B\n",
        "\n",
        "#@markdown Character C \n",
        "hp_C = 27968 #@param {type: \"number\", min:0}\n",
        "dodge_C = 0.00 #@param {type:\"number\", min:0, max:1}\n",
        "dmg_taken_C = 4400 #@param {type: \"number\", min:0}\n",
        "hostility_C = 10 #@param {type:\"number\", min:0}\n",
        "hp[Ch.C] = hp_C\n",
        "dodge[Ch.C] = dodge_C\n",
        "dmg_taken[Ch.C] = dmg_taken_C\n",
        "host[Ch.C] = hostility_C\n",
        "\n",
        "#@markdown Character D\n",
        "hp_D = 27684 #@param {type: \"number\", min:0}\n",
        "dodge_D = 0.00 #@param {type:\"number\", min:0, max:1}\n",
        "dmg_taken_D = 2750 #@param {type: \"number\", min:0}\n",
        "hostility_D = 10 #@param {type:\"number\", min:0}\n",
        "hp[Ch.D] = hp_D\n",
        "dodge[Ch.D] = dodge_D\n",
        "dmg_taken[Ch.D] = dmg_taken_D\n",
        "host[Ch.D] = hostility_D\n"
      ],
      "metadata": {
        "id": "IX84YztloMup"
      },
      "execution_count": null,
      "outputs": []
    },
    {
      "cell_type": "code",
      "source": [
        "#@markdown Select the configurations you want by commenting/uncommenting the appropiate lines:\n",
        "\n",
        "#@markdown For example, `{Ch.A:1, Ch.B:1}` means that if Character A and B counters once (ie 1 hit), that's enough to guarantee an OTK\n",
        "\n",
        "PASS_CONFIGURATIONS = [\n",
        "    {Ch.A:1},\n",
        "    #{Ch.B:1},\n",
        "    #{Ch.C:1},\n",
        "    #{Ch.D:1},\n",
        "    #{Ch.A:1, Ch.B:1},\n",
        "    #{Ch.A:1, Ch.C:1},\n",
        "    #{Ch.A:1, Ch.D:1},\n",
        "    {Ch.B:1, Ch.C:1},\n",
        "    {Ch.B:1, Ch.D:1},\n",
        "    {Ch.C:1, Ch.D:1},\n",
        "    #{Ch.A:1, Ch.B:1, Ch.C:1},\n",
        "    #{Ch.A:1, Ch.B:1, Ch.D:1},\n",
        "    #{Ch.A:1, Ch.C:1, Ch.D:1},\n",
        "    #{Ch.B:1, Ch.C:1, Ch.D:1},\n",
        "    #{Ch.A:1, Ch.B:1, Ch.C:1, Ch.D:1},\n",
        "]"
      ],
      "metadata": {
        "id": "ZChofIFky1bv"
      },
      "execution_count": null,
      "outputs": []
    },
    {
      "cell_type": "code",
      "source": [
        "#@title\n",
        "import math\n",
        "STUPID_ORDERING = [Ch.A, Ch.B, Ch.C, Ch.D]\n",
        "STUPID_INVERSE = {\n",
        "    Ch.A:0, Ch.B:1, Ch.C:2, Ch.D:3\n",
        "}\n",
        "# uaw if you want to verify the probabilities adds up. Otherwise, adds useless computation.\n",
        "DEBUG = False\n",
        "\n",
        "def valid_hp_set(config, c, k):\n",
        "  return (config[STUPID_INVERSE[c]] > 0 and config[STUPID_INVERSE[c]] <= (hp[c] - k*dmg_taken[c]))\n",
        "\n",
        "def passing_configuration(config):\n",
        "  if DEBUG:\n",
        "    print(\"===== Cpnfiguration \" + str(config) + \" =====\")\n",
        "  for cond in PASS_CONFIGURATIONS:\n",
        "    valid = True\n",
        "    for ch in cond:\n",
        "      if not valid_hp_set(config, ch, cond[ch]):\n",
        "        valid = False\n",
        "    if valid:\n",
        "      if DEBUG:\n",
        "        print(\"Pass due to condition set :\" + str(cond))\n",
        "        print(\"===== End of Config \" + str(config) + \" =====\")\n",
        "      return True\n",
        "    if DEBUG:\n",
        "      print(\"Violates all passing configs.\")\n",
        "      print(\"===== End of Config \" + str(config) + \" =====\")\n",
        "  return False\n",
        "\n",
        "def generate_combinations():\n",
        "  # we do this iteratively, as then we can compact the data representation every iteration\n",
        "  old_tmp = [(tuple(hp[c] for c in STUPID_ORDERING), 1)]\n",
        "  tmp = []\n",
        "  for _ in range(10):\n",
        "    for combo in old_tmp:\n",
        "      conf=combo[0]\n",
        "      prob=combo[1]\n",
        "      total_host = sum([host[STUPID_ORDERING[c]] for c in range(len(STUPID_ORDERING)) if conf[c] > 0])\n",
        "      if (total_host > 0):\n",
        "        total_dodge_rate = sum([host[STUPID_ORDERING[c]]*dodge[STUPID_ORDERING[c]] for c in range(len(STUPID_ORDERING)) if conf[c] > 0]) / total_host\n",
        "        if total_dodge_rate > 0:\n",
        "          tmp.append((conf, prob*total_dodge_rate))\n",
        "        for target in [c for c in range(len(STUPID_ORDERING)) if conf[c] > 0]:\n",
        "          nct = list(conf)\n",
        "          nct[target] -= dmg_taken[STUPID_ORDERING[target]]\n",
        "          tmp.append((tuple(nct), prob*host[STUPID_ORDERING[target]]*(1-dodge[STUPID_ORDERING[target]])/total_host))\n",
        "      else:\n",
        "        # everyone has into hiding. some bigbrain leave it all to summer bika strat.... wait shit I want to try that.\n",
        "        num_units = len([x for x in conf if x > 0])\n",
        "        if num_units == 0:\n",
        "          # this config is doomed, total party wipe, but we include this to guarantee total prob = 1 if debugging\n",
        "          if DEBUG:\n",
        "            tmp.append((conf, prob))\n",
        "          continue\n",
        "        total_dodge_rate = sum([dodge[STUPID_ORDERING[c]] for c in range(len(STUPID_ORDERING)) if conf[c] > 0]) / num_units\n",
        "        if total_dodge_rate > 0:\n",
        "          tmp.append((conf, prob*total_dodge_rate))\n",
        "        for target in [c for c in range(len(STUPID_ORDERING)) if conf[c] > 0]:\n",
        "          nct = list(conf)\n",
        "          nct[target] -= dmg_taken[STUPID_ORDERING[target]]\n",
        "          tmp.append((tuple(nct), prob*(1-dodge[STUPID_ORDERING[target]])/num_units))\n",
        "    config_set = set(x[0] for x in tmp)\n",
        "    old_tmp = [(x, sum([k[1] for k in tmp if x==k[0]])) for x in config_set]\n",
        "    if DEBUG:\n",
        "      print(\">>>> Config Set: \" + str(config_set))\n",
        "      print(\"Resulting data: \" + str(old_tmp))\n",
        "      print(\"Config Probability Sum = \" + str(sum([k[1] for k in old_tmp])))\n",
        "      print(\">>>>>>>>\")\n",
        "    tmp = []\n",
        "  return old_tmp\n",
        "    \n",
        "def pass_rate():\n",
        "  dat = generate_combinations()\n",
        "  return sum([k[1] for k in dat if passing_configuration(k[0])])\n",
        "\n",
        "\n",
        "\n",
        "print(\"Success Rate: \" + str(pass_rate()))\n",
        "\n"
      ],
      "metadata": {
        "colab": {
          "base_uri": "https://localhost:8080/"
        },
        "id": "SSlLPkPQ0gD7",
        "outputId": "b561112a-8a75-4bf5-fe95-180b131d2227",
        "cellView": "form"
      },
      "execution_count": null,
      "outputs": [
        {
          "output_type": "stream",
          "name": "stdout",
          "text": [
            "Success Rate: 0.9997136785048484\n"
          ]
        }
      ]
    }
  ]
}